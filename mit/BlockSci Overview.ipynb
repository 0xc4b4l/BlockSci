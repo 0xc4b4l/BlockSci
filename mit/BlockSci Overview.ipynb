{
 "cells": [
  {
   "cell_type": "markdown",
   "metadata": {
    "collapsed": true
   },
   "source": [
    "# BlockSci Overview"
   ]
  },
  {
   "cell_type": "markdown",
   "metadata": {},
   "source": [
    "This tutorial will show you how to use the BlockSci python interface."
   ]
  },
  {
   "cell_type": "markdown",
   "metadata": {},
   "source": [
    "## General setup"
   ]
  },
  {
   "cell_type": "markdown",
   "metadata": {},
   "source": [
    "You'll need to execute these lines first in order to initialize BlockSci.\n",
    "\n",
    "To do so, enter the cell by clicking on it, then press *Shift+Enter* (or select it and go to *Cell->Run Cells* in the toolbar at the top)."
   ]
  },
  {
   "cell_type": "code",
   "execution_count": null,
   "metadata": {},
   "outputs": [],
   "source": [
    "import blocksci\n",
    "import pandas as pd\n",
    "import matplotlib as plt\n",
    "%matplotlib notebook"
   ]
  },
  {
   "cell_type": "code",
   "execution_count": null,
   "metadata": {},
   "outputs": [],
   "source": [
    "chain = blocksci.Blockchain(\"/blocksci/bitcoin\")"
   ]
  },
  {
   "cell_type": "markdown",
   "metadata": {},
   "source": [
    "## Blocks in the Blockchain\n",
    "The `chain` object represents a blockchain. It contains all blocks in the blockchain."
   ]
  },
  {
   "cell_type": "code",
   "execution_count": null,
   "metadata": {},
   "outputs": [],
   "source": [
    "len(chain)"
   ]
  },
  {
   "cell_type": "markdown",
   "metadata": {},
   "source": [
    "You can access each block directly by its index (i.e. its height)."
   ]
  },
  {
   "cell_type": "code",
   "execution_count": null,
   "metadata": {},
   "outputs": [],
   "source": [
    "chain[400000]"
   ]
  },
  {
   "cell_type": "markdown",
   "metadata": {},
   "source": [
    "Block 400000 was created on"
   ]
  },
  {
   "cell_type": "code",
   "execution_count": null,
   "metadata": {},
   "outputs": [],
   "source": [
    "chain[400000].time"
   ]
  },
  {
   "cell_type": "markdown",
   "metadata": {},
   "source": [
    "It contains 1660 transactions (including the coinbase transaction):"
   ]
  },
  {
   "cell_type": "code",
   "execution_count": null,
   "metadata": {},
   "outputs": [],
   "source": [
    "len(chain[400000])"
   ]
  },
  {
   "cell_type": "markdown",
   "metadata": {},
   "source": [
    "You can access blocks at the end of the blockchain using negative indices. For example, `chain[-1]` returns the last block in the chain."
   ]
  },
  {
   "cell_type": "code",
   "execution_count": null,
   "metadata": {},
   "outputs": [],
   "source": [
    "chain[-1]"
   ]
  },
  {
   "cell_type": "code",
   "execution_count": null,
   "metadata": {},
   "outputs": [],
   "source": [
    "chain[-1].time"
   ]
  },
  {
   "cell_type": "markdown",
   "metadata": {},
   "source": [
    "Here are a few more examples for selecting blocks in the chain:"
   ]
  },
  {
   "cell_type": "code",
   "execution_count": null,
   "metadata": {},
   "outputs": [],
   "source": [
    "chain[0]          # selects the first block in the chain\n",
    "chain[1]          # selects the second block\n",
    "chain[1:3]        # selects the second to fourth block\n",
    "chain[1:]         # selects all blocks after the first\n",
    "chain[:5]         # selects the first five blocks\n",
    "chain[:-2]        # selects all but the last two blocks"
   ]
  },
  {
   "cell_type": "markdown",
   "metadata": {},
   "source": [
    "## Transactions\n",
    "You can access transactions in a block like you a block in the chain (by index or by iterating over the block)."
   ]
  },
  {
   "cell_type": "code",
   "execution_count": null,
   "metadata": {},
   "outputs": [],
   "source": [
    "myblock = chain[400000]\n",
    "myblock[0]"
   ]
  },
  {
   "cell_type": "markdown",
   "metadata": {},
   "source": [
    "The first transaction in every block is the coinbase transaction."
   ]
  },
  {
   "cell_type": "code",
   "execution_count": null,
   "metadata": {},
   "outputs": [],
   "source": [
    "myblock[0].is_coinbase"
   ]
  },
  {
   "cell_type": "markdown",
   "metadata": {},
   "source": [
    "We can choose other transactions by their position in the block. If you just print the transaction, it will give you helpful output about the contents of the transaction. This transaction has three inputs, two outputs and a size of 520 bytes."
   ]
  },
  {
   "cell_type": "code",
   "execution_count": null,
   "metadata": {},
   "outputs": [],
   "source": [
    "mytx = myblock[1234]\n",
    "mytx"
   ]
  },
  {
   "cell_type": "markdown",
   "metadata": {},
   "source": [
    "This transaction paid 0.0001 BTC in transaction fees (amounts are denoted in satoshi, 1 BTC equals 100,000,000 satoshi)."
   ]
  },
  {
   "cell_type": "code",
   "execution_count": null,
   "metadata": {},
   "outputs": [],
   "source": [
    "mytx.fee / 1e8"
   ]
  },
  {
   "cell_type": "markdown",
   "metadata": {},
   "source": [
    "## Inputs and Outputs"
   ]
  },
  {
   "cell_type": "markdown",
   "metadata": {},
   "source": [
    "Every transaction has a list of inputs and outputs"
   ]
  },
  {
   "cell_type": "code",
   "execution_count": null,
   "metadata": {},
   "outputs": [],
   "source": [
    "for i in mytx.inputs:\n",
    "    print(i)"
   ]
  },
  {
   "cell_type": "code",
   "execution_count": null,
   "metadata": {},
   "outputs": [],
   "source": [
    "for o in mytx.outputs:\n",
    "    print(o)"
   ]
  },
  {
   "cell_type": "markdown",
   "metadata": {},
   "source": [
    "Every input and output is associated with an address."
   ]
  },
  {
   "cell_type": "code",
   "execution_count": null,
   "metadata": {},
   "outputs": [],
   "source": [
    "myaddr = mytx.outputs[0].address\n",
    "myaddr"
   ]
  },
  {
   "cell_type": "markdown",
   "metadata": {},
   "source": [
    "You can see all the transactions that an address appears in"
   ]
  },
  {
   "cell_type": "code",
   "execution_count": null,
   "metadata": {},
   "outputs": [],
   "source": [
    "myaddr.txes()"
   ]
  },
  {
   "cell_type": "markdown",
   "metadata": {
    "collapsed": true
   },
   "source": [
    "## Creating a chart"
   ]
  },
  {
   "cell_type": "markdown",
   "metadata": {},
   "source": [
    "Pandas is a python library that provides advanced data structures for data analysis.\n",
    "\n",
    "First, we will create a time series (`Series`) of the Bitcoin block size (in KB). A time series consists of a list of values (the blocksize) and an index of corresponding length (the timestamp of the block). We will then average the data over a time frame of 1 month and plot the results."
   ]
  },
  {
   "cell_type": "code",
   "execution_count": null,
   "metadata": {},
   "outputs": [],
   "source": [
    "block_times = [block.time for block in chain]\n",
    "block_sizes = [block.size_bytes / 1000 for block in chain]\n",
    "ds_block_size = pd.Series(block_sizes, index=block_times)\n",
    "size_plot = ds_block_size.resample(\"1 M\").mean().plot()\n",
    "size_plot.set_ylabel(\"Block size (KB)\")"
   ]
  },
  {
   "cell_type": "markdown",
   "metadata": {},
   "source": [
    "Next, we will create a plot with two time series. For this we make use of the `DataFrame`."
   ]
  },
  {
   "cell_type": "code",
   "execution_count": null,
   "metadata": {},
   "outputs": [],
   "source": [
    "tx_per_block = [len(block) for block in chain]\n",
    "df_blocksize = pd.DataFrame({\n",
    "    \"Block size (KB)\": block_sizes,\n",
    "    \"Number of transactions\": tx_per_block\n",
    "}, index=block_times)\n",
    "df_blocksize.resample(\"1 M\").mean().plot()"
   ]
  },
  {
   "cell_type": "markdown",
   "metadata": {},
   "source": [
    "## Satoshi vs. BTC\n",
    "\n",
    "Values in Bitcoin (and BlockSci) are denoted in Satoshi, with 1 BTC = 100,000,000 Satoshi. You can convert from Satoshi to Bitcoin and vice versa as follows:"
   ]
  },
  {
   "cell_type": "code",
   "execution_count": null,
   "metadata": {},
   "outputs": [],
   "source": [
    "# The total output value of the transaction in Satoshi\n",
    "mytx.output_value"
   ]
  },
  {
   "cell_type": "code",
   "execution_count": null,
   "metadata": {},
   "outputs": [],
   "source": [
    "# The same in BTC\n",
    "COIN = 1e8\n",
    "mytx.output_value / COIN"
   ]
  },
  {
   "cell_type": "markdown",
   "metadata": {},
   "source": [
    "## Currency Conversion\n",
    "\n",
    "BlockSci comes with a built-in class that provides currency conversion (using the CoinDesk price API):"
   ]
  },
  {
   "cell_type": "code",
   "execution_count": null,
   "metadata": {},
   "outputs": [],
   "source": [
    "converter = blocksci.CurrencyConverter() # you can pass the currency as string, default is USD"
   ]
  },
  {
   "cell_type": "code",
   "execution_count": null,
   "metadata": {},
   "outputs": [],
   "source": [
    "converter.bitcoin_to_currency(date='2017-06-30', value=1)"
   ]
  },
  {
   "cell_type": "code",
   "execution_count": null,
   "metadata": {},
   "outputs": [],
   "source": [
    "converter.currency_to_bitcoin(date='2017-06-30', value=1000)"
   ]
  },
  {
   "cell_type": "code",
   "execution_count": null,
   "metadata": {},
   "outputs": [],
   "source": []
  }
 ],
 "metadata": {
  "kernelspec": {
   "display_name": "Python 3",
   "language": "python",
   "name": "python3"
  },
  "language_info": {
   "codemirror_mode": {
    "name": "ipython",
    "version": 3
   },
   "file_extension": ".py",
   "mimetype": "text/x-python",
   "name": "python",
   "nbconvert_exporter": "python",
   "pygments_lexer": "ipython3",
   "version": "3.5.2"
  }
 },
 "nbformat": 4,
 "nbformat_minor": 2
}
