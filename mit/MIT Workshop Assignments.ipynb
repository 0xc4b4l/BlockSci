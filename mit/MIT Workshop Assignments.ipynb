{
 "cells": [
  {
   "cell_type": "markdown",
   "metadata": {},
   "source": [
    "# MIT BlockSci Workshop\n",
    "\n",
    "Hello and welcome to our workshop on exploring the Bitcoin blockchain with BlockSci!  \n",
    "This notebook contains a number of assignments that you can work on during the next few hours.\n",
    "\n",
    "\n",
    "\n",
    "## A few helpful tips\n",
    "\n",
    "- You can split your solution into many code cells, which can be useful when some tasks need a lot more time to run than others. You can add another cell by clicking the `+` Symbol in the toolbar at the top.\n",
    "- Cells can contain code or text. To write text (such as this one), change the cell type using the dropdown menu from \"Code\" to \"Markdown\".\n",
    "- If you are not certain which methods or attributes an object `obj` provides, you can inspect it using the function `dir(obj)`."
   ]
  },
  {
   "cell_type": "markdown",
   "metadata": {},
   "source": [
    "## 0) Setup\n",
    "\n",
    "You need to run the following two cells (e.g., by clicking \"Run\" in the toolbar on top or by moving the cursor into the cell and pressing `shift` + `enter` on your keyboard) in order to load and configure the required packages."
   ]
  },
  {
   "cell_type": "code",
   "execution_count": null,
   "metadata": {},
   "outputs": [],
   "source": [
    "import blocksci\n",
    "import pandas as pd\n",
    "import matplotlib.pyplot as plt\n",
    "import numpy as np"
   ]
  },
  {
   "cell_type": "code",
   "execution_count": null,
   "metadata": {},
   "outputs": [],
   "source": [
    "# Plots are non-interactive - change this only if you are familiar with the behavior of interactive plots\n",
    "%matplotlib inline\n",
    "plt.rcParams['figure.figsize'] = (12, 8)"
   ]
  },
  {
   "cell_type": "markdown",
   "metadata": {},
   "source": [
    "Now, we are going to initialize the Bitcoin blockchain."
   ]
  },
  {
   "cell_type": "code",
   "execution_count": null,
   "metadata": {},
   "outputs": [],
   "source": [
    "chain = blocksci.Blockchain(\"/blocksci/bitcoin\")"
   ]
  },
  {
   "cell_type": "markdown",
   "metadata": {},
   "source": [
    "## 1) Block intervals\n",
    "\n",
    "Bitcoin’s targeted block interval is 10 minutes. However, as the amount of computation effort that miners invest changes over time, the actual block interval can deviate from this goal.\n",
    "\n",
    "1. Compute the average time between two blocks\n",
    "    - over the entire blockchain\n",
    "    - for each coinbase reward epoch (i.e. the epochs in which the coinbase reward has not changed)\n",
    "2. Plot the average block interval over time (aggregated on a monthly basis) and interpret your findings\n",
    "\n",
    "*Note:* Use `block.timestamp` instead of `block.time` to avoid having to deal with Python's datetime objects. (If you use `block.time`, note that subtracting two datetime objects from each other returns a `timedelta` object. To get the number of seconds of this time span, you then need to use the function `.total_seconds()`)."
   ]
  },
  {
   "cell_type": "code",
   "execution_count": null,
   "metadata": {},
   "outputs": [],
   "source": [
    "# Start your solution here"
   ]
  },
  {
   "cell_type": "markdown",
   "metadata": {},
   "source": [
    "## 2) Mining Reward\n",
    "\n",
    "As a reward for solving the proof-of-work puzzle, miners receive a fixed block reward plus all transaction fees included in a block.\n",
    "As the block reward is decreased every 210,000 blocks, transaction fees gradually become more and more important for miners.\n",
    "Assess how important transaction fees are for a miner's income today by plotting the block block reward (in BTC) against the total amount of fees included in a block, aggregated as\n",
    "\n",
    "1. the maximum amount per day\n",
    "2. the average over a month\n",
    "\n",
    "Interpret your results."
   ]
  },
  {
   "cell_type": "code",
   "execution_count": null,
   "metadata": {},
   "outputs": [],
   "source": [
    "# Start your solution here"
   ]
  },
  {
   "cell_type": "markdown",
   "metadata": {},
   "source": [
    "## 3) UTXO Growth\n",
    "\n",
    "An important metric (e.g., in the block size debate) is the size of the UTXO pool (the data structure that keeps track of all unspent transaction outputs).\n",
    "Compute and visualize the relative change in the size of the UTXO pool as well as its absolute size over time."
   ]
  },
  {
   "cell_type": "code",
   "execution_count": null,
   "metadata": {},
   "outputs": [],
   "source": [
    "# Start your solution here"
   ]
  },
  {
   "cell_type": "markdown",
   "metadata": {},
   "source": [
    "## 4) Transaction Fees\n",
    "\n",
    "In this task we evaluate the transaction fees paid by users.\n",
    "\n",
    "1. What is the average transaction fee (per byte) per block? Plot it over time. Can you make sense of the changes you see in the plot?\n",
    "2. Next look at outliers that paid enormously high transaction fees. How many blocks have transactions that pay more than 1 BTC in transaction fees?\n",
    "3. Plot the transaction fee of these transactions against their timestamp (ideally as as a scatterplot using pyplot, i.e. `plt.scatter`).\n",
    "4. Make another scatterplot using the same data as before, but this time convert the BTC values into USD/EUR. What is the largest fee a user has (erroneously) paid?\n",
    "\n",
    "Users are free to choose their own transaction fees based on their time preference (e.g., they can pay more to have their transaction confirmed faster).\n",
    "Most wallets offer fee estimation algorithms that are intended to help the user to select an appropriate fee.\n",
    "Unfortunately, most of these are not very good at predicting the necessary fee level.\n",
    "As a result, users sometimes drastically overpay their fees.\n",
    "\n",
    "1. Plot the spread of transaction fees paid (per byte), starting at block height 200000.\n",
    "2. How does the plot change once you account for outliers? (Suggestion: Use the numpy function `np.percentile` to calculate percentiles)"
   ]
  },
  {
   "cell_type": "code",
   "execution_count": null,
   "metadata": {},
   "outputs": [],
   "source": [
    "# Start your solution here"
   ]
  },
  {
   "cell_type": "markdown",
   "metadata": {},
   "source": [
    "## 5) SPV Mining\n",
    "\n",
    "SPV mining refers to mining on top of a new block right after it is announced but before the miner has been able to verify the block itself.\n",
    "The block that is mined on top therefore cannot include any transactions (as those may have already been included in the block that was just discovered). Find evidence for SPV mining on the blockchain and quantify the frequency with which it occurs.\n",
    "\n",
    "1. Find blocks that do not include any transactions (limit your analysis to blocks found after height 400000)\n",
    "2. Compare the time difference of these blocks to the previous block to identify SPV mining\n",
    "3. Visualize the total amount of SPV-mined blocks per month"
   ]
  },
  {
   "cell_type": "code",
   "execution_count": null,
   "metadata": {},
   "outputs": [],
   "source": [
    "# Start your solution here"
   ]
  },
  {
   "cell_type": "markdown",
   "metadata": {},
   "source": [
    "## 6) CoinJoin Detection\n",
    "\n",
    "Write a function `is_coinjoin(tx)` to detect CoinJoin transactions. The function takes a transaction and should return `True` if the transaction is likely a CoinJoin transaction, and `False` otherwise. Describe the characteristics you use to detect CoinJoin transactions."
   ]
  },
  {
   "cell_type": "code",
   "execution_count": null,
   "metadata": {},
   "outputs": [],
   "source": [
    "def is_coinjoin(tx):\n",
    "    # Start your solution here"
   ]
  },
  {
   "cell_type": "markdown",
   "metadata": {},
   "source": [
    "You can use the following hashes of CoinJoin transactions to test your algorithm (taken from the *Joinmarket* Twitter account https://twitter.com/joinmarket). You may need to test your method with other transactions to prevent *false positives*."
   ]
  },
  {
   "cell_type": "code",
   "execution_count": null,
   "metadata": {},
   "outputs": [],
   "source": [
    "is_coinjoin(blocksci.Tx(\"b877b4f66a7e8fa847e8a775024be20a2b76d10c1b9300f0b95b3757a1448d4d\"))"
   ]
  },
  {
   "cell_type": "code",
   "execution_count": null,
   "metadata": {},
   "outputs": [],
   "source": [
    "is_coinjoin(blocksci.Tx(\"7d588d52d1cece7a18d663c977d6143016b5b326404bbf286bc024d5d54fcecb\"))"
   ]
  },
  {
   "cell_type": "code",
   "execution_count": null,
   "metadata": {},
   "outputs": [],
   "source": [
    "is_coinjoin(blocksci.Tx(\"55eac9d4a4159d4ba355122c6c18f85293c19ae358306a3773ec3a5d053e2f1b\"))"
   ]
  },
  {
   "cell_type": "markdown",
   "metadata": {},
   "source": [
    "## 7) Get Creative\n",
    "\n",
    "Now it's your turn to start exploring the blockchain using BlockSci. While many of the previous examples were longitudinal analyses, analyzing specific use cases can be even more exciting. Here are a couple of suggestions:\n",
    "\n",
    "- Use your CoinJoin heuristic from part 6 to identify chains of CoinJoins in the blockchain\n",
    "- Analyze the behavior of different entities in the ecosystem. For example, you could compare the win rate of a specific SatoshiDice address to the actual win rate. You can also use a list of addresses from [WalletExplorer.com](https://www.walletexplorer.com/) as a starting point for similar analyses.\n",
    "- Try to identify cold wallet addresses based on an exchange's known hot wallets."
   ]
  },
  {
   "cell_type": "code",
   "execution_count": null,
   "metadata": {},
   "outputs": [],
   "source": []
  }
 ],
 "metadata": {
  "kernelspec": {
   "display_name": "Python 3",
   "language": "python",
   "name": "python3"
  },
  "language_info": {
   "codemirror_mode": {
    "name": "ipython",
    "version": 3
   },
   "file_extension": ".py",
   "mimetype": "text/x-python",
   "name": "python",
   "nbconvert_exporter": "python",
   "pygments_lexer": "ipython3",
   "version": "3.5.2"
  }
 },
 "nbformat": 4,
 "nbformat_minor": 2
}
