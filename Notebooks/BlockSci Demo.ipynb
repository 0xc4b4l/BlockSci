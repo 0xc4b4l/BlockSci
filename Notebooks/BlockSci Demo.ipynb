{
 "cells": [
  {
   "cell_type": "markdown",
   "metadata": {},
   "source": [
    "# BlockSci Setup"
   ]
  },
  {
   "cell_type": "code",
   "execution_count": null,
   "metadata": {
    "collapsed": true
   },
   "outputs": [],
   "source": [
    "from blocksci import *\n",
    "import matplotlib.pyplot as plt\n",
    "import collections\n",
    "import pandas as pd\n",
    "import numpy as np\n",
    "%matplotlib notebook"
   ]
  },
  {
   "cell_type": "code",
   "execution_count": null,
   "metadata": {
    "collapsed": true
   },
   "outputs": [],
   "source": [
    "chain = Blockchain(\"/home/ubuntu/bitcoin-data\")"
   ]
  },
  {
   "cell_type": "markdown",
   "metadata": {},
   "source": [
    "# Measuring different types of address use"
   ]
  },
  {
   "cell_type": "code",
   "execution_count": null,
   "metadata": {
    "collapsed": true
   },
   "outputs": [],
   "source": [
    "net_coins_per_block = [block.net_address_type_value() for block in chain]"
   ]
  },
  {
   "cell_type": "code",
   "execution_count": null,
   "metadata": {
    "collapsed": true
   },
   "outputs": [],
   "source": [
    "df = pd.DataFrame(net_coins_per_block).fillna(0).cumsum()/1e8\n",
    "df = chain.heights_to_dates(df)\n",
    "df = df.rename(columns={t:address_type.pretty_name(t) for t in df.columns})\n",
    "df.resample(\"W\").mean().plot()"
   ]
  },
  {
   "cell_type": "markdown",
   "metadata": {},
   "source": [
    "# Transaction Fees"
   ]
  },
  {
   "cell_type": "code",
   "execution_count": null,
   "metadata": {
    "collapsed": false
   },
   "outputs": [],
   "source": [
    "df = pd.DataFrame(chain[465100].fees_per_byte, columns=[\"Satoshis per byte\"])\n",
    "ax = df.reset_index().plot.scatter(x=\"index\", y=\"Satoshis per byte\")\n",
    "plt.show()"
   ]
  },
  {
   "cell_type": "markdown",
   "metadata": {},
   "source": [
    "# Identifying Non-Currency Applications"
   ]
  },
  {
   "cell_type": "code",
   "execution_count": null,
   "metadata": {
    "collapsed": false
   },
   "outputs": [],
   "source": [
    "%time txes = chain.script_type_txes(0, len(chain), nulldata)"
   ]
  },
  {
   "cell_type": "code",
   "execution_count": null,
   "metadata": {
    "collapsed": false
   },
   "outputs": [],
   "source": [
    "df = pd.DataFrame([(tx.block.time, label_application(tx)) for tx in txes], columns=[\"date\", \"label\"])\n",
    "df2 = df.reset_index().groupby([\"date\", \"label\"]).count().unstack(level=-1).fillna(0)\n",
    "df2.columns = df2.columns.droplevel()"
   ]
  },
  {
   "cell_type": "code",
   "execution_count": null,
   "metadata": {
    "collapsed": true
   },
   "outputs": [],
   "source": [
    "important_columns = list(df2[df2.index > pd.to_datetime(\"1-1-2016\")].sum().sort_values()[-10:].index)\n",
    "important_columns = [x for x in important_columns if \"Address\" not in x]\n",
    "df2[df2.index > pd.to_datetime(\"1-1-2016\")].cumsum().resample(\"w\").mean()[important_columns].plot()"
   ]
  },
  {
   "cell_type": "markdown",
   "metadata": {},
   "source": [
    "# Average Fees per Block in July in USD"
   ]
  },
  {
   "cell_type": "code",
   "execution_count": null,
   "metadata": {
    "collapsed": true
   },
   "outputs": [],
   "source": [
    "fees = [(block.time, np.sum(block.fees)) for block in chain.range('Jul 2017')]"
   ]
  },
  {
   "cell_type": "code",
   "execution_count": null,
   "metadata": {
    "collapsed": true
   },
   "outputs": [],
   "source": [
    "converter = CurrencyConverter()"
   ]
  },
  {
   "cell_type": "code",
   "execution_count": null,
   "metadata": {
    "collapsed": false
   },
   "outputs": [],
   "source": [
    "df = pd.DataFrame(fees, columns=[\"date\", \"fee\"])\n",
    "df.index = df[\"date\"]\n",
    "del df[\"date\"]\n",
    "df = satoshi_to_currency(chain, converter, df)\n",
    "df.resample(\"d\").mean().plot()"
   ]
  },
  {
   "cell_type": "markdown",
   "metadata": {},
   "source": [
    "# High Fee Transactions"
   ]
  },
  {
   "cell_type": "code",
   "execution_count": null,
   "metadata": {
    "collapsed": true
   },
   "outputs": [],
   "source": [
    "high_fee_txes = chain.cpp.filter_tx(\"fee(tx) > 10000000\", 0, len(chain))"
   ]
  },
  {
   "cell_type": "code",
   "execution_count": null,
   "metadata": {
    "collapsed": false
   },
   "outputs": [],
   "source": [
    "df = pd.DataFrame([(tx.block.height, tx.fee) for tx in high_fee_txes], columns=[\"height\", \"fee\"])\n",
    "df.index = df[\"height\"]\n",
    "df[\"fee\"] = df.apply(lambda x: converter.satoshi_to_currency(x[\"fee\"], chain[x[\"height\"]].time), axis=1)\n",
    "ax = df.plot.scatter(x=\"height\", y=\"fee\")"
   ]
  },
  {
   "cell_type": "code",
   "execution_count": null,
   "metadata": {
    "collapsed": true
   },
   "outputs": [],
   "source": []
  }
 ],
 "metadata": {
  "kernelspec": {
   "display_name": "Python 3",
   "language": "python",
   "name": "python3"
  },
  "language_info": {
   "codemirror_mode": {
    "name": "ipython",
    "version": 3
   },
   "file_extension": ".py",
   "mimetype": "text/x-python",
   "name": "python",
   "nbconvert_exporter": "python",
   "pygments_lexer": "ipython3",
   "version": "3.6.1"
  }
 },
 "nbformat": 4,
 "nbformat_minor": 2
}
